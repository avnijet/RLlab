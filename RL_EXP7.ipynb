{
  "nbformat": 4,
  "nbformat_minor": 0,
  "metadata": {
    "colab": {
      "provenance": [],
      "authorship_tag": "ABX9TyOlLKOtDbGb+PkSE8aMzfZf",
      "include_colab_link": true
    },
    "kernelspec": {
      "name": "python3",
      "display_name": "Python 3"
    },
    "language_info": {
      "name": "python"
    }
  },
  "cells": [
    {
      "cell_type": "markdown",
      "metadata": {
        "id": "view-in-github",
        "colab_type": "text"
      },
      "source": [
        "<a href=\"https://colab.research.google.com/github/Codeadi01/RL/blob/main/RL_EXP7.ipynb\" target=\"_parent\"><img src=\"https://colab.research.google.com/assets/colab-badge.svg\" alt=\"Open In Colab\"/></a>"
      ]
    },
    {
      "cell_type": "code",
      "execution_count": null,
      "metadata": {
        "colab": {
          "base_uri": "https://localhost:8080/"
        },
        "id": "Fw1E9CcpJyKB",
        "outputId": "00aca569-9394-4bda-a5d5-420f81e7c176"
      },
      "outputs": [
        {
          "output_type": "stream",
          "name": "stdout",
          "text": [
            "Policy iteration converged after 1 iterations.\n",
            "Optimal Policy:\n",
            "[[1. 0.]\n",
            " [1. 0.]\n",
            " [1. 0.]]\n"
          ]
        }
      ],
      "source": [
        "import numpy as np\n",
        "\n",
        "# Define the transition probabilities and rewards for a simple MDP\n",
        "# The MDP has 3 states and 2 actions (0 and 1)\n",
        "# Transitions are deterministic, and rewards are -1 for every step\n",
        "# The goal is to find the optimal policy that minimizes the total cost\n",
        "\n",
        "num_states = 3\n",
        "num_actions = 2\n",
        "\n",
        "# Transition probabilities: transition_probs[state, action, next_state]\n",
        "transition_probs = np.array([\n",
        "    [[1, 0, 0], [0, 1, 0]],  # From state 0, action 0 goes to state 0 and action 1 goes to state 1\n",
        "    [[0, 1, 0], [0, 0, 1]],  # From state 1, action 0 goes to state 1 and action 1 goes to state 2\n",
        "    [[0, 0, 1], [0, 0, 1]],  # From state 2, both actions go to state 2\n",
        "])\n",
        "\n",
        "# Rewards: rewards[state, action]\n",
        "rewards = np.array([\n",
        "    [-1, -1],\n",
        "    [-1, -1],\n",
        "    [-1, -1],\n",
        "])\n",
        "\n",
        "# Discount factor\n",
        "gamma = 0.9\n",
        "\n",
        "# Initialize a random policy\n",
        "policy = np.ones((num_states, num_actions)) / num_actions\n",
        "\n",
        "def evaluate_policy(policy, transition_probs, rewards, gamma):\n",
        "    \"\"\"Evaluate the policy by solving the linear system of equations.\"\"\"\n",
        "    num_states, num_actions = policy.shape\n",
        "    A = np.eye(num_states)\n",
        "    b = np.zeros(num_states)\n",
        "\n",
        "    for s in range(num_states):\n",
        "        for a in range(num_actions):\n",
        "            prob = policy[s, a]\n",
        "            next_state_probs = transition_probs[s, a]\n",
        "            reward = rewards[s, a]\n",
        "            A[s] -= prob * gamma * next_state_probs\n",
        "            b[s] += prob * reward\n",
        "\n",
        "    values = np.linalg.solve(A, b)\n",
        "    return values\n",
        "\n",
        "def improve_policy(policy, values, transition_probs, rewards, gamma):\n",
        "    \"\"\"Improve the policy based on the current values.\"\"\"\n",
        "    num_states, num_actions = policy.shape\n",
        "\n",
        "    for s in range(num_states):\n",
        "        action_values = np.zeros(num_actions)\n",
        "\n",
        "        for a in range(num_actions):\n",
        "            next_state_probs = transition_probs[s, a]\n",
        "            reward = rewards[s, a]\n",
        "            action_values[a] = np.dot(next_state_probs, (reward + gamma * values))\n",
        "\n",
        "        best_action = np.argmax(action_values)\n",
        "        policy[s] = np.eye(num_actions)[best_action]\n",
        "\n",
        "    return policy\n",
        "\n",
        "# Policy iteration algorithm\n",
        "num_iterations = 100\n",
        "for i in range(num_iterations):\n",
        "    values = evaluate_policy(policy, transition_probs, rewards, gamma)\n",
        "    new_policy = improve_policy(policy, values, transition_probs, rewards, gamma)\n",
        "\n",
        "    # Check for convergence\n",
        "    if np.array_equal(new_policy, policy):\n",
        "        print(f\"Policy iteration converged after {i+1} iterations.\")\n",
        "        break\n",
        "\n",
        "    policy = new_policy\n",
        "\n",
        "print(\"Optimal Policy:\")\n",
        "print(policy)\n"
      ]
    }
  ]
}