{
  "nbformat": 4,
  "nbformat_minor": 0,
  "metadata": {
    "colab": {
      "provenance": [],
      "authorship_tag": "ABX9TyPfIxHDF4dqv9IaZuZDxyRK",
      "include_colab_link": true
    },
    "kernelspec": {
      "name": "python3",
      "display_name": "Python 3"
    },
    "language_info": {
      "name": "python"
    }
  },
  "cells": [
    {
      "cell_type": "markdown",
      "metadata": {
        "id": "view-in-github",
        "colab_type": "text"
      },
      "source": [
        "<a href=\"https://colab.research.google.com/github/Codeadi01/RL/blob/main/RL_EXP8.ipynb\" target=\"_parent\"><img src=\"https://colab.research.google.com/assets/colab-badge.svg\" alt=\"Open In Colab\"/></a>"
      ]
    },
    {
      "cell_type": "code",
      "execution_count": 1,
      "metadata": {
        "colab": {
          "base_uri": "https://localhost:8080/"
        },
        "id": "rkDxEF0CKLXa",
        "outputId": "feb25d7a-e5c5-4f10-f5a8-fa1956e95078"
      },
      "outputs": [
        {
          "output_type": "stream",
          "name": "stdout",
          "text": [
            "Value iteration converged after 89 iterations.\n",
            "Optimal Policy:\n",
            "[[1. 0.]\n",
            " [1. 0.]\n",
            " [1. 0.]]\n"
          ]
        }
      ],
      "source": [
        "import numpy as np\n",
        "\n",
        "# Define the transition probabilities and rewards for a simple MDP\n",
        "# The MDP has 3 states and 2 actions (0 and 1)\n",
        "# Transitions are deterministic, and rewards are -1 for every step\n",
        "# The goal is to find the optimal policy that minimizes the total cost\n",
        "\n",
        "num_states = 3\n",
        "num_actions = 2\n",
        "\n",
        "# Transition probabilities: transition_probs[state, action, next_state]\n",
        "transition_probs = np.array([\n",
        "    [[1, 0, 0], [0, 1, 0]],  # From state 0, action 0 goes to state 0 and action 1 goes to state 1\n",
        "    [[0, 1, 0], [0, 0, 1]],  # From state 1, action 0 goes to state 1 and action 1 goes to state 2\n",
        "    [[0, 0, 1], [0, 0, 1]],  # From state 2, both actions go to state 2\n",
        "])\n",
        "\n",
        "# Rewards: rewards[state, action]\n",
        "rewards = np.array([\n",
        "    [-1, -1],\n",
        "    [-1, -1],\n",
        "    [-1, -1],\n",
        "])\n",
        "\n",
        "# Discount factor\n",
        "gamma = 0.9\n",
        "\n",
        "# Initialize values arbitrarily\n",
        "values = np.zeros(num_states)\n",
        "\n",
        "# Value iteration algorithm\n",
        "num_iterations = 100\n",
        "for i in range(num_iterations):\n",
        "    new_values = np.zeros(num_states)\n",
        "\n",
        "    for s in range(num_states):\n",
        "        action_values = np.zeros(num_actions)\n",
        "\n",
        "        for a in range(num_actions):\n",
        "            next_state_probs = transition_probs[s, a]\n",
        "            reward = rewards[s, a]\n",
        "            action_values[a] = np.dot(next_state_probs, (reward + gamma * values))\n",
        "\n",
        "        new_values[s] = np.max(action_values)\n",
        "\n",
        "    # Check for convergence\n",
        "    if np.allclose(new_values, values):\n",
        "        print(f\"Value iteration converged after {i+1} iterations.\")\n",
        "        break\n",
        "\n",
        "    values = new_values\n",
        "\n",
        "# Extract the optimal policy from the computed values\n",
        "optimal_policy = np.zeros((num_states, num_actions))\n",
        "for s in range(num_states):\n",
        "    action_values = np.zeros(num_actions)\n",
        "\n",
        "    for a in range(num_actions):\n",
        "        next_state_probs = transition_probs[s, a]\n",
        "        reward = rewards[s, a]\n",
        "        action_values[a] = np.dot(next_state_probs, (reward + gamma * values))\n",
        "\n",
        "    best_action = np.argmax(action_values)\n",
        "    optimal_policy[s, best_action] = 1\n",
        "\n",
        "print(\"Optimal Policy:\")\n",
        "print(optimal_policy)\n"
      ]
    }
  ]
}