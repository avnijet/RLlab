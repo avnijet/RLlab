{
  "nbformat": 4,
  "nbformat_minor": 0,
  "metadata": {
    "colab": {
      "provenance": [],
      "authorship_tag": "ABX9TyMDUkW4yQ6BqdpkFs06/fgy",
      "include_colab_link": true
    },
    "kernelspec": {
      "name": "python3",
      "display_name": "Python 3"
    },
    "language_info": {
      "name": "python"
    }
  },
  "cells": [
    {
      "cell_type": "markdown",
      "metadata": {
        "id": "view-in-github",
        "colab_type": "text"
      },
      "source": [
        "<a href=\"https://colab.research.google.com/github/Codeadi01/RL/blob/main/RL_EXP9.ipynb\" target=\"_parent\"><img src=\"https://colab.research.google.com/assets/colab-badge.svg\" alt=\"Open In Colab\"/></a>"
      ]
    },
    {
      "cell_type": "code",
      "execution_count": 1,
      "metadata": {
        "colab": {
          "base_uri": "https://localhost:8080/"
        },
        "id": "nAfFtJ6SKeyL",
        "outputId": "b03e18ae-1a6e-4279-a799-93f503f6f92b"
      },
      "outputs": [
        {
          "output_type": "stream",
          "name": "stdout",
          "text": [
            "Wins: 2993, Ties: 394, Losses: 6613\n"
          ]
        }
      ],
      "source": [
        "import numpy as np\n",
        "\n",
        "# Define the basic rules of Blackjack\n",
        "def deal_card():\n",
        "    \"\"\"Deal a random card from the deck.\"\"\"\n",
        "    cards = [2, 3, 4, 5, 6, 7, 8, 9, 10, 10, 10, 10, 11] * 4\n",
        "    return np.random.choice(cards)\n",
        "\n",
        "def calculate_score(cards):\n",
        "    \"\"\"Calculate the total score of a hand of cards.\"\"\"\n",
        "    score = sum(cards)\n",
        "    if score > 21 and 11 in cards:\n",
        "        cards.remove(11)\n",
        "        cards.append(1)\n",
        "        score = sum(cards)\n",
        "    return score\n",
        "\n",
        "def is_blackjack(cards):\n",
        "    \"\"\"Check if a hand is a blackjack (ace + 10-value card).\"\"\"\n",
        "    return len(cards) == 2 and 11 in cards and 10 in cards\n",
        "\n",
        "def simulate_game():\n",
        "    \"\"\"Simulate one game of Blackjack using Monte Carlo method.\"\"\"\n",
        "    player_cards = [deal_card(), deal_card()]\n",
        "    dealer_cards = [deal_card(), deal_card()]\n",
        "\n",
        "    player_turn = True\n",
        "    game_over = False\n",
        "\n",
        "    while not game_over:\n",
        "        player_score = calculate_score(player_cards)\n",
        "        dealer_score = calculate_score(dealer_cards)\n",
        "\n",
        "        if player_turn:\n",
        "            # Player's turn\n",
        "            if player_score == 21 and len(player_cards) == 2:\n",
        "                game_over = True  # Player has a blackjack\n",
        "            else:\n",
        "                action = \"hit\" if np.random.rand() < 0.5 else \"stand\"\n",
        "                if action == \"hit\":\n",
        "                    player_cards.append(deal_card())\n",
        "                else:\n",
        "                    player_turn = False\n",
        "        else:\n",
        "            # Dealer's turn\n",
        "            if dealer_score < 17:\n",
        "                dealer_cards.append(deal_card())\n",
        "            else:\n",
        "                game_over = True\n",
        "\n",
        "        if player_score > 21 or dealer_score == 21 or (not player_turn and dealer_score > 21):\n",
        "            game_over = True\n",
        "\n",
        "    # Determine the winner\n",
        "    if player_score == dealer_score:\n",
        "        return 0  # Tie\n",
        "    elif player_score == 21 or (dealer_score > 21 and player_score <= 21):\n",
        "        return 1  # Player wins\n",
        "    elif dealer_score == 21 or (player_score > 21 and dealer_score <= 21):\n",
        "        return -1  # Dealer wins\n",
        "    elif player_score > dealer_score:\n",
        "        return 1  # Player wins\n",
        "    else:\n",
        "        return -1  # Dealer wins\n",
        "\n",
        "# Monte Carlo simulation\n",
        "num_simulations = 10000\n",
        "wins = 0\n",
        "ties = 0\n",
        "losses = 0\n",
        "\n",
        "for _ in range(num_simulations):\n",
        "    result = simulate_game()\n",
        "    if result == 1:\n",
        "        wins += 1\n",
        "    elif result == 0:\n",
        "        ties += 1\n",
        "    elif result == -1:\n",
        "        losses += 1\n",
        "\n",
        "# Print results\n",
        "print(f\"Wins: {wins}, Ties: {ties}, Losses: {losses}\")\n"
      ]
    }
  ]
}